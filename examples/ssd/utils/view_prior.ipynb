{
 "cells": [
  {
   "cell_type": "markdown",
   "metadata": {},
   "source": [
    "# SSD: Single Shot MultiBox Detector\n",
    "\n",
    "This is designed to visualize priors (*a.k.a* anchors)."
   ]
  },
  {
   "cell_type": "markdown",
   "metadata": {},
   "source": [
    "### 1. Setup\n",
    "* First, set up Python, numpy and matplotlib"
   ]
  },
  {
   "cell_type": "code",
   "execution_count": 1,
   "metadata": {
    "collapsed": true
   },
   "outputs": [],
   "source": [
    "# set up Python environment: numpy for numerical routines, and matplotlib for plotting\n",
    "import numpy as np\n",
    "import matplotlib.pyplot as plt\n",
    "import matplotlib.patches as patches\n",
    "# display plots in this notebook\n",
    "%matplotlib inline\n",
    "\n",
    "# set display defaults\n",
    "plt.rcParams['figure.figsize'] = (12, 12)        # large images\n",
    "plt.rcParams['image.interpolation'] = 'nearest'  # don't interpolate: show square pixels\n",
    "plt.rcParams['image.cmap'] = 'gray'  # use grayscale output rather than a (potentially misleading) color heatmap"
   ]
  },
  {
   "cell_type": "markdown",
   "metadata": {},
   "source": [
    "* Load caffe"
   ]
  },
  {
   "cell_type": "code",
   "execution_count": 2,
   "metadata": {
    "collapsed": true
   },
   "outputs": [],
   "source": [
    "# The caffe module needs to be on the Python path;\n",
    "#  we'll add it here explicitly.\n",
    "import sys\n",
    "caffe_root = '../../../'  # this file should be run from {caffe_root}/examples (otherwise change this line)\n",
    "sys.path.insert(0, caffe_root + 'python')\n",
    "\n",
    "import caffe\n",
    "# If you get \"No module named _caffe\", either you have not built pycaffe or you have the wrong path."
   ]
  },
  {
   "cell_type": "markdown",
   "metadata": {},
   "source": [
    "### 2. Load net and set up input preprocessing\n",
    "* Set caffe to CPU/GPU mode and load the net from disk"
   ]
  },
  {
   "cell_type": "code",
   "execution_count": 3,
   "metadata": {
    "collapsed": false
   },
   "outputs": [],
   "source": [
    "caffe.set_device(0)\n",
    "caffe.set_mode_cpu()\n",
    "\n",
    "model_def = '../../../models/SSD_300x300/test.prototxt'\n",
    "model_weights = '../../../models/SSD_300x300/VGG_VOC0712_SSD_300x300_iter_120000.caffemodel'\n",
    "\n",
    "net = caffe.Net(model_def,      # defines the structure of the model\n",
    "                model_weights,  # contains the trained weights\n",
    "                caffe.TEST)     # use test mode (e.g., don't perform dropout)"
   ]
  },
  {
   "cell_type": "code",
   "execution_count": 4,
   "metadata": {
    "collapsed": true
   },
   "outputs": [],
   "source": [
    "### perform detection\n",
    "output = net.forward()"
   ]
  },
  {
   "cell_type": "code",
   "execution_count": 5,
   "metadata": {
    "collapsed": false
   },
   "outputs": [
    {
     "name": "stdout",
     "output_type": "stream",
     "text": [
      "data\t(1, 3, 300, 300)\n",
      "label\t(1, 1, 2, 8)\n",
      "data_data_0_split_0\t(1, 3, 300, 300)\n",
      "data_data_0_split_1\t(1, 3, 300, 300)\n",
      "data_data_0_split_2\t(1, 3, 300, 300)\n",
      "data_data_0_split_3\t(1, 3, 300, 300)\n",
      "data_data_0_split_4\t(1, 3, 300, 300)\n",
      "data_data_0_split_5\t(1, 3, 300, 300)\n",
      "data_data_0_split_6\t(1, 3, 300, 300)\n",
      "conv1_1\t(1, 64, 300, 300)\n",
      "conv1_2\t(1, 64, 300, 300)\n",
      "pool1\t(1, 64, 150, 150)\n",
      "conv2_1\t(1, 128, 150, 150)\n",
      "conv2_2\t(1, 128, 150, 150)\n",
      "pool2\t(1, 128, 75, 75)\n",
      "conv3_1\t(1, 256, 75, 75)\n",
      "conv3_2\t(1, 256, 75, 75)\n",
      "conv3_3\t(1, 256, 75, 75)\n",
      "pool3\t(1, 256, 38, 38)\n",
      "conv4_1\t(1, 512, 38, 38)\n",
      "conv4_2\t(1, 512, 38, 38)\n",
      "conv4_3\t(1, 512, 38, 38)\n",
      "conv4_3_relu4_3_0_split_0\t(1, 512, 38, 38)\n",
      "conv4_3_relu4_3_0_split_1\t(1, 512, 38, 38)\n",
      "pool4\t(1, 512, 19, 19)\n",
      "conv5_1\t(1, 512, 19, 19)\n",
      "conv5_2\t(1, 512, 19, 19)\n",
      "conv5_3\t(1, 512, 19, 19)\n",
      "pool5\t(1, 512, 19, 19)\n",
      "fc6\t(1, 1024, 19, 19)\n",
      "fc7\t(1, 1024, 19, 19)\n",
      "fc7_relu7_0_split_0\t(1, 1024, 19, 19)\n",
      "fc7_relu7_0_split_1\t(1, 1024, 19, 19)\n",
      "fc7_relu7_0_split_2\t(1, 1024, 19, 19)\n",
      "fc7_relu7_0_split_3\t(1, 1024, 19, 19)\n",
      "conv6_1\t(1, 256, 19, 19)\n",
      "conv6_2\t(1, 512, 10, 10)\n",
      "conv6_2_conv6_2_relu_0_split_0\t(1, 512, 10, 10)\n",
      "conv6_2_conv6_2_relu_0_split_1\t(1, 512, 10, 10)\n",
      "conv6_2_conv6_2_relu_0_split_2\t(1, 512, 10, 10)\n",
      "conv6_2_conv6_2_relu_0_split_3\t(1, 512, 10, 10)\n",
      "conv7_1\t(1, 128, 10, 10)\n",
      "conv7_2\t(1, 256, 5, 5)\n",
      "conv7_2_conv7_2_relu_0_split_0\t(1, 256, 5, 5)\n",
      "conv7_2_conv7_2_relu_0_split_1\t(1, 256, 5, 5)\n",
      "conv7_2_conv7_2_relu_0_split_2\t(1, 256, 5, 5)\n",
      "conv7_2_conv7_2_relu_0_split_3\t(1, 256, 5, 5)\n",
      "conv8_1\t(1, 128, 5, 5)\n",
      "conv8_2\t(1, 256, 3, 3)\n",
      "conv8_2_conv8_2_relu_0_split_0\t(1, 256, 3, 3)\n",
      "conv8_2_conv8_2_relu_0_split_1\t(1, 256, 3, 3)\n",
      "conv8_2_conv8_2_relu_0_split_2\t(1, 256, 3, 3)\n",
      "conv8_2_conv8_2_relu_0_split_3\t(1, 256, 3, 3)\n",
      "conv9_1\t(1, 128, 3, 3)\n",
      "conv9_2\t(1, 256, 1, 1)\n",
      "conv9_2_conv9_2_relu_0_split_0\t(1, 256, 1, 1)\n",
      "conv9_2_conv9_2_relu_0_split_1\t(1, 256, 1, 1)\n",
      "conv9_2_conv9_2_relu_0_split_2\t(1, 256, 1, 1)\n",
      "conv4_3_norm\t(1, 512, 38, 38)\n",
      "conv4_3_norm_conv4_3_norm_0_split_0\t(1, 512, 38, 38)\n",
      "conv4_3_norm_conv4_3_norm_0_split_1\t(1, 512, 38, 38)\n",
      "conv4_3_norm_conv4_3_norm_0_split_2\t(1, 512, 38, 38)\n",
      "conv4_3_norm_mbox_loc\t(1, 16, 38, 38)\n",
      "conv4_3_norm_mbox_loc_perm\t(1, 38, 38, 16)\n",
      "conv4_3_norm_mbox_loc_flat\t(1, 23104)\n",
      "conv4_3_norm_mbox_conf\t(1, 84, 38, 38)\n",
      "conv4_3_norm_mbox_conf_perm\t(1, 38, 38, 84)\n",
      "conv4_3_norm_mbox_conf_flat\t(1, 121296)\n",
      "conv4_3_norm_mbox_priorbox\t(1, 2, 23104)\n",
      "fc7_mbox_loc\t(1, 24, 19, 19)\n",
      "fc7_mbox_loc_perm\t(1, 19, 19, 24)\n",
      "fc7_mbox_loc_flat\t(1, 8664)\n",
      "fc7_mbox_conf\t(1, 126, 19, 19)\n",
      "fc7_mbox_conf_perm\t(1, 19, 19, 126)\n",
      "fc7_mbox_conf_flat\t(1, 45486)\n",
      "fc7_mbox_priorbox\t(1, 2, 8664)\n",
      "conv6_2_mbox_loc\t(1, 24, 10, 10)\n",
      "conv6_2_mbox_loc_perm\t(1, 10, 10, 24)\n",
      "conv6_2_mbox_loc_flat\t(1, 2400)\n",
      "conv6_2_mbox_conf\t(1, 126, 10, 10)\n",
      "conv6_2_mbox_conf_perm\t(1, 10, 10, 126)\n",
      "conv6_2_mbox_conf_flat\t(1, 12600)\n",
      "conv6_2_mbox_priorbox\t(1, 2, 2400)\n",
      "conv7_2_mbox_loc\t(1, 24, 5, 5)\n",
      "conv7_2_mbox_loc_perm\t(1, 5, 5, 24)\n",
      "conv7_2_mbox_loc_flat\t(1, 600)\n",
      "conv7_2_mbox_conf\t(1, 126, 5, 5)\n",
      "conv7_2_mbox_conf_perm\t(1, 5, 5, 126)\n",
      "conv7_2_mbox_conf_flat\t(1, 3150)\n",
      "conv7_2_mbox_priorbox\t(1, 2, 600)\n",
      "conv8_2_mbox_loc\t(1, 16, 3, 3)\n",
      "conv8_2_mbox_loc_perm\t(1, 3, 3, 16)\n",
      "conv8_2_mbox_loc_flat\t(1, 144)\n",
      "conv8_2_mbox_conf\t(1, 84, 3, 3)\n",
      "conv8_2_mbox_conf_perm\t(1, 3, 3, 84)\n",
      "conv8_2_mbox_conf_flat\t(1, 756)\n",
      "conv8_2_mbox_priorbox\t(1, 2, 144)\n",
      "conv9_2_mbox_loc\t(1, 16, 1, 1)\n",
      "conv9_2_mbox_loc_perm\t(1, 1, 1, 16)\n",
      "conv9_2_mbox_loc_flat\t(1, 16)\n",
      "conv9_2_mbox_conf\t(1, 84, 1, 1)\n",
      "conv9_2_mbox_conf_perm\t(1, 1, 1, 84)\n",
      "conv9_2_mbox_conf_flat\t(1, 84)\n",
      "conv9_2_mbox_priorbox\t(1, 2, 24)\n",
      "mbox_loc\t(1, 34928)\n",
      "mbox_conf\t(1, 183372)\n",
      "mbox_priorbox\t(1, 2, 34936)\n",
      "mbox_conf_reshape\t(1, 8732, 21)\n",
      "mbox_conf_softmax\t(1, 8732, 21)\n",
      "mbox_conf_flatten\t(1, 183372)\n"
     ]
    }
   ],
   "source": [
    "# for each layer, show the output shape\n",
    "for layer_name, blob in net.blobs.iteritems():\n",
    "    print layer_name + '\\t' + str(blob.data.shape)"
   ]
  },
  {
   "cell_type": "code",
   "execution_count": 6,
   "metadata": {
    "collapsed": true
   },
   "outputs": [],
   "source": [
    "item_id = 0"
   ]
  },
  {
   "cell_type": "code",
   "execution_count": 7,
   "metadata": {
    "collapsed": false
   },
   "outputs": [],
   "source": [
    "conv4_3 = net.blobs['conv4_3_norm_mbox_priorbox'].data\n",
    "fc7     = net.blobs['fc7_mbox_priorbox'].data\n",
    "conv6_2 = net.blobs['conv6_2_mbox_priorbox'].data\n",
    "conv7_2 = net.blobs['conv7_2_mbox_priorbox'].data\n",
    "conv8_2 = net.blobs['conv8_2_mbox_priorbox'].data\n",
    "conv9_2 = net.blobs['conv9_2_mbox_priorbox'].data"
   ]
  },
  {
   "cell_type": "code",
   "execution_count": 8,
   "metadata": {
    "collapsed": false
   },
   "outputs": [
    {
     "name": "stdout",
     "output_type": "stream",
     "text": [
      "conv4_3.shape=(1, 2, 23104), #priors=5776\n",
      "fc7.shape=(1, 2, 8664), #priors=2166\n",
      "conv6_2.shape=(1, 2, 2400), #priors=600\n",
      "conv7_2.shape=(1, 2, 600), #priors=150\n",
      "conv8_2.shape=(1, 2, 144), #priors=36\n",
      "conv9_2.shape=(1, 2, 24), #priors=6\n"
     ]
    }
   ],
   "source": [
    "print 'conv4_3.shape={}, #priors={}'.format(conv4_3.shape, conv4_3.shape[2]/4)\n",
    "print 'fc7.shape={}, #priors={}'.format(fc7.shape, fc7.shape[2]/4)\n",
    "print 'conv6_2.shape={}, #priors={}'.format(conv6_2.shape, conv6_2.shape[2]/4)\n",
    "print 'conv7_2.shape={}, #priors={}'.format(conv7_2.shape, conv7_2.shape[2]/4)\n",
    "print 'conv8_2.shape={}, #priors={}'.format(conv8_2.shape, conv8_2.shape[2]/4)\n",
    "print 'conv9_2.shape={}, #priors={}'.format(conv9_2.shape, conv9_2.shape[2]/4)"
   ]
  },
  {
   "cell_type": "code",
   "execution_count": 9,
   "metadata": {
    "collapsed": false
   },
   "outputs": [
    {
     "name": "stdout",
     "output_type": "stream",
     "text": [
      "(1, 2, 24)\n"
     ]
    },
    {
     "data": {
      "image/png": "[encoded data removed]",
      "text/plain": [
       "<matplotlib.figure.Figure at 0x7f2664f02fd0>"
      ]
     },
     "metadata": {},
     "output_type": "display_data"
    }
   ],
   "source": [
    "blob_name = 'conv9_2_mbox_priorbox'\n",
    "color_list = ['red', 'orange', 'yellow', 'green', 'cyan', 'black']\n",
    "\n",
    "prior_blob = net.blobs[blob_name].data\n",
    "print prior_blob.shape\n",
    "num_priors = prior_blob.shape[2]/4\n",
    "step_size = 1\n",
    "\n",
    "fig2 = plt.figure()\n",
    "plt.title('{}: #priors={}'.format(blob_name, num_priors), fontsize=25)\n",
    "ax2 = fig2.add_subplot(111, aspect='equal')\n",
    "ax2.set_ylim([-0.5, 1.5])\n",
    "ax2.set_xlim([-0.5, 1.5])\n",
    "ax2.grid(True)\n",
    "for i in xrange(0, num_priors, step_size):\n",
    "    [xmin, ymin, xmax, ymax] = prior_blob[0, 0, i*4:i*4+4]\n",
    "    x = xmin\n",
    "    y = ymin\n",
    "    h = ymax - ymin\n",
    "    w = xmax - xmin\n",
    "    ax2.add_patch(\n",
    "        patches.Rectangle(\n",
    "            (x, y),\n",
    "            w,\n",
    "            h,\n",
    "            fill=False,      # remove background\n",
    "#             alpha=0.2,\n",
    "            edgecolor=color_list[i%6],\n",
    "            linewidth=2\n",
    "        )\n",
    "    )"
   ]
  },
  {
   "cell_type": "code",
   "execution_count": null,
   "metadata": {
    "collapsed": true
   },
   "outputs": [],
   "source": []
  }
 ],
 "metadata": {
  "kernelspec": {
   "display_name": "Python 2",
   "language": "python",
   "name": "python2"
  },
  "language_info": {
   "codemirror_mode": {
    "name": "ipython",
    "version": 2
   },
   "file_extension": ".py",
   "mimetype": "text/x-python",
   "name": "python",
   "nbconvert_exporter": "python",
   "pygments_lexer": "ipython2",
   "version": "2.7.6"
  }
 },
 "nbformat": 4,
 "nbformat_minor": 0
}
